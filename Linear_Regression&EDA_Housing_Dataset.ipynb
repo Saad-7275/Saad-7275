{
  "nbformat": 4,
  "nbformat_minor": 0,
  "metadata": {
    "colab": {
      "provenance": [],
      "authorship_tag": "ABX9TyMjzu4IzvlFeFXtusHJg3fx",
      "include_colab_link": true
    },
    "kernelspec": {
      "name": "python3",
      "display_name": "Python 3"
    },
    "language_info": {
      "name": "python"
    }
  },
  "cells": [
    {
      "cell_type": "markdown",
      "metadata": {
        "id": "view-in-github",
        "colab_type": "text"
      },
      "source": [
        "<a href=\"https://colab.research.google.com/github/Saad-7275/Saad-7275/blob/main/Linear_Regression%26EDA_Housing_Dataset.ipynb\" target=\"_parent\"><img src=\"https://colab.research.google.com/assets/colab-badge.svg\" alt=\"Open In Colab\"/></a>"
      ]
    },
    {
      "cell_type": "code",
      "execution_count": null,
      "metadata": {
        "id": "82KI7nnKQGCx"
      },
      "outputs": [],
      "source": [
        "import numpy as np\n",
        "import pandas as pd\n",
        "import csv"
      ]
    },
    {
      "cell_type": "code",
      "source": [
        "with open('/Housing Dataset.csv') as file_data:\n",
        "  print(file_data)\n",
        "  file_data_csv = csv.DictReader(file_data, skipinitialspace = True)\n",
        "  for i in file_data_csv:\n",
        "    print(i)\n",
        "\n"
      ],
      "metadata": {
        "id": "i71KP3NYRY9r"
      },
      "execution_count": null,
      "outputs": []
    },
    {
      "cell_type": "code",
      "source": [
        "### Converting the above CSV File into a DataFrame\n",
        "\n",
        "DF = pd.read_csv('/Housing Dataset.csv')\n",
        "DF.head()"
      ],
      "metadata": {
        "id": "m20ZPm1USYP8"
      },
      "execution_count": null,
      "outputs": []
    },
    {
      "cell_type": "code",
      "source": [
        "DF.info()"
      ],
      "metadata": {
        "id": "H9V3aT56T3Ep"
      },
      "execution_count": null,
      "outputs": []
    },
    {
      "cell_type": "code",
      "source": [
        "DF.isnull().sum()"
      ],
      "metadata": {
        "id": "XvDO0_3lUJxf"
      },
      "execution_count": null,
      "outputs": []
    },
    {
      "cell_type": "code",
      "source": [
        "DF.describe()"
      ],
      "metadata": {
        "id": "WGAk4DkMUTGG"
      },
      "execution_count": null,
      "outputs": []
    },
    {
      "cell_type": "code",
      "source": [
        "### Shape of the Data\n",
        "\n",
        "DF.shape"
      ],
      "metadata": {
        "id": "y0aF0pzeUcAN"
      },
      "execution_count": null,
      "outputs": []
    },
    {
      "cell_type": "code",
      "source": [
        "### If we want to see the Unique Values in a Dataset with respect to each column\n",
        "\n",
        "DF.nunique()"
      ],
      "metadata": {
        "id": "EyItSaf6UmjK"
      },
      "execution_count": null,
      "outputs": []
    },
    {
      "cell_type": "code",
      "source": [
        "import seaborn as sns\n",
        "import matplotlib.pyplot as plt\n"
      ],
      "metadata": {
        "id": "7CHBF3TMbRJt"
      },
      "execution_count": null,
      "outputs": []
    },
    {
      "cell_type": "code",
      "source": [
        "columns = ['price','floors', 'sqft_living', 'sqft_above', 'sqft_basement', 'sqft_living15', 'sqft_lot15']\n",
        "\n",
        "for col in columns:\n",
        "  if (DF[col].dtypes == 'int64' or DF[col].dtypes == 'float64'):\n",
        "    sns.set()\n",
        "    sns.boxplot(DF[col])\n",
        "    plt.xlabel(col)\n",
        "    plt.ylabel('count')\n",
        "    plt.show()\n"
      ],
      "metadata": {
        "id": "ewcLAohVU4DX"
      },
      "execution_count": null,
      "outputs": []
    },
    {
      "cell_type": "markdown",
      "source": [
        "**Now we will Remove some of the Outliers from the Data**"
      ],
      "metadata": {
        "id": "U1LqI9S9taCj"
      }
    },
    {
      "cell_type": "code",
      "source": [
        "for i in DF.columns:\n",
        "  if DF[i].dtypes == 'int64' or DF[i].dtypes == 'float64':\n",
        "     if i != 'id':\n",
        "\n",
        "      Q1 = DF[i].quantile(0.25)\n",
        "      Q3 = DF[i].quantile(0.75)\n",
        "\n",
        "      IQR = Q3 - Q1\n",
        "\n",
        "      df = DF[(DF[i] >= Q1 - 1.5*IQR) & (DF[i] <= Q3 + 1.5*IQR)]\n",
        "\n",
        "\n",
        "\n",
        "\n",
        "\n"
      ],
      "metadata": {
        "id": "oESs_Nxjb2RD"
      },
      "execution_count": null,
      "outputs": []
    },
    {
      "cell_type": "markdown",
      "source": [
        "Checking again in the box plot for the removal of outliers from the above code."
      ],
      "metadata": {
        "id": "sy9oNKqexJ9t"
      }
    },
    {
      "cell_type": "code",
      "source": [
        "columns = ['price','floors', 'sqft_living', 'sqft_above', 'sqft_basement', 'sqft_living15', 'sqft_lot15']\n",
        "\n",
        "for col in columns:\n",
        "  if (df[col].dtypes == 'int64' or df[col].dtypes == 'float64'):\n",
        "    sns.set()\n",
        "    sns.boxplot(df[col])\n",
        "    plt.xlabel(col)\n",
        "    plt.ylabel('count')\n",
        "    plt.show()"
      ],
      "metadata": {
        "id": "mRj3W69xxIsH"
      },
      "execution_count": null,
      "outputs": []
    },
    {
      "cell_type": "markdown",
      "source": [
        "Correlation Coefficent and Plot the Heat map"
      ],
      "metadata": {
        "id": "oaFXAXGn1N0A"
      }
    },
    {
      "cell_type": "code",
      "source": [
        "price_coeff = DF.corr()['price']\n",
        "print(price_coeff)"
      ],
      "metadata": {
        "id": "78e-zYzY01zi"
      },
      "execution_count": null,
      "outputs": []
    },
    {
      "cell_type": "markdown",
      "source": [
        "Scatter Plot betwwen Sqft_living and Price Column"
      ],
      "metadata": {
        "id": "6rEGAc7Yb9VO"
      }
    },
    {
      "cell_type": "code",
      "source": [
        "x = DF['price']\n",
        "y = DF['sqft_living']\n",
        "\n",
        "plt.scatter(x,y)\n",
        "plt.xlabel(\"Price\")\n",
        "plt.ylabel(\"sqft_living\")\n",
        "plt.show()"
      ],
      "metadata": {
        "id": "5youcudTcAyc"
      },
      "execution_count": null,
      "outputs": []
    },
    {
      "cell_type": "code",
      "source": [
        "X = DF['sqft_living'].values.reshape(-1,1)\n",
        "Y = DF['price']\n"
      ],
      "metadata": {
        "id": "237f8y8fdVOp"
      },
      "execution_count": null,
      "outputs": []
    },
    {
      "cell_type": "code",
      "source": [
        "from sklearn.model_selection import train_test_split\n",
        "\n",
        "X_train, X_test, Y_train, Y_test = train_test_split(X,Y, test_size = 0.33, random_state = 42)\n"
      ],
      "metadata": {
        "id": "txZVJ775drTY"
      },
      "execution_count": null,
      "outputs": []
    },
    {
      "cell_type": "code",
      "source": [
        "print(X_train.shape)\n",
        "print(X_test.shape)"
      ],
      "metadata": {
        "id": "2zCq4Mkxd-Mg"
      },
      "execution_count": null,
      "outputs": []
    },
    {
      "cell_type": "code",
      "source": [
        "from sklearn.linear_model import LinearRegression\n",
        "\n",
        "model_1 = LinearRegression()"
      ],
      "metadata": {
        "id": "GGbTn464eXF0"
      },
      "execution_count": null,
      "outputs": []
    },
    {
      "cell_type": "code",
      "source": [
        "model_1.fit(X_train, Y_train)"
      ],
      "metadata": {
        "id": "Fnuk54TPejN9"
      },
      "execution_count": null,
      "outputs": []
    },
    {
      "cell_type": "code",
      "source": [
        "m = model_1.coef_\n",
        "c = model_1.intercept_\n",
        "\n",
        "print(m,'\\n',c)"
      ],
      "metadata": {
        "id": "DgOizfpRe5nd"
      },
      "execution_count": null,
      "outputs": []
    },
    {
      "cell_type": "code",
      "source": [
        "x_line = np.arange(250, 14000, 0.2)\n",
        "y_line = m * x_line + c\n",
        "\n",
        "plt.plot(x_line, y_line)\n",
        "plt.scatter(X_train, Y_train)\n",
        "plt.xlabel('Living_Sqft')\n",
        "plt.ylabel('Price')\n",
        "plt.show()"
      ],
      "metadata": {
        "id": "xhWyuGT-fNkG"
      },
      "execution_count": null,
      "outputs": []
    },
    {
      "cell_type": "markdown",
      "source": [
        "Accuracy Score on Training Data"
      ],
      "metadata": {
        "id": "0hbY98VggD8c"
      }
    },
    {
      "cell_type": "code",
      "source": [
        "Training_Accuracy = model_1.score(X_train, Y_train)\n",
        "print(Training_Accuracy)"
      ],
      "metadata": {
        "id": "-NLoslxfgB-3"
      },
      "execution_count": null,
      "outputs": []
    },
    {
      "cell_type": "code",
      "source": [
        "### Now we will look into the testing Data\n",
        "\n",
        "model_1.fit(X_test, Y_test)"
      ],
      "metadata": {
        "id": "-U-PbnCUgSYn"
      },
      "execution_count": null,
      "outputs": []
    },
    {
      "cell_type": "code",
      "source": [
        "m_test = model_1.coef_\n",
        "c_test = model_1.intercept_\n",
        "\n",
        "print(m_test, '\\n', c_test)"
      ],
      "metadata": {
        "id": "s9ArCwKnge0S"
      },
      "execution_count": null,
      "outputs": []
    },
    {
      "cell_type": "code",
      "source": [
        "x_line = np.arange(200, 14000, 0.2)\n",
        "y_line = m_test * x_line + c_test\n",
        "\n",
        "plt.plot(x_line, y_line)\n",
        "plt.scatter(X_test, Y_test)\n",
        "plt.xlabel('Living_Sqft')\n",
        "plt.ylabel('Price')\n",
        "plt.show()"
      ],
      "metadata": {
        "id": "P7m7dX2mgrib"
      },
      "execution_count": null,
      "outputs": []
    },
    {
      "cell_type": "markdown",
      "source": [
        "Accuracy Score for Testing Data"
      ],
      "metadata": {
        "id": "eBami3mchWE3"
      }
    },
    {
      "cell_type": "code",
      "source": [
        "Testing_accuracy = model_1.score(X_test, Y_test)\n",
        "print(Testing_accuracy)"
      ],
      "metadata": {
        "id": "qUiFm54yhVIk"
      },
      "execution_count": null,
      "outputs": []
    },
    {
      "cell_type": "code",
      "source": [
        "print(Training_Accuracy, ' ', Testing_accuracy)"
      ],
      "metadata": {
        "id": "v4MgdC0Chi7A"
      },
      "execution_count": null,
      "outputs": []
    },
    {
      "cell_type": "code",
      "source": [
        "### Number Of Houses Having WaterFront\n",
        "\n",
        "waterfront_houses = DF[DF['waterfront']==1].count()\n",
        "print(waterfront_houses)"
      ],
      "metadata": {
        "id": "eWsMum7Vcp_5"
      },
      "execution_count": null,
      "outputs": []
    },
    {
      "cell_type": "code",
      "source": [
        "### Houses Having two floors\n",
        "\n",
        "two_floor_houses = DF[DF['floors']==2].count()\n",
        "print(two_floor_houses)"
      ],
      "metadata": {
        "id": "-iKJTP88eWup"
      },
      "execution_count": null,
      "outputs": []
    },
    {
      "cell_type": "code",
      "source": [
        "### Houses built Before 1960 have waterfront\n",
        "\n",
        "house_waterfront_1960 = DF[(DF['yr_built'] < 1960) & (DF['waterfront']==1)].count()\n",
        "print(house_waterfront_1960)"
      ],
      "metadata": {
        "id": "JXIQU7gTe1ET"
      },
      "execution_count": null,
      "outputs": []
    },
    {
      "cell_type": "code",
      "source": [
        "### Price Of most expensive house having 4 bathrooms\n",
        "\n",
        "Most_expensive_house = DF[DF['bathrooms']>4]\n",
        "Most_expensive_house.max()"
      ],
      "metadata": {
        "id": "4gIgSORKfgDG"
      },
      "execution_count": null,
      "outputs": []
    }
  ]
}