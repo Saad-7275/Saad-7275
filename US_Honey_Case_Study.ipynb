{
  "nbformat": 4,
  "nbformat_minor": 0,
  "metadata": {
    "colab": {
      "provenance": [],
      "authorship_tag": "ABX9TyPcMOAHGzRN4l+JEGKX9Vcg",
      "include_colab_link": true
    },
    "kernelspec": {
      "name": "python3",
      "display_name": "Python 3"
    },
    "language_info": {
      "name": "python"
    }
  },
  "cells": [
    {
      "cell_type": "markdown",
      "metadata": {
        "id": "view-in-github",
        "colab_type": "text"
      },
      "source": [
        "<a href=\"https://colab.research.google.com/github/Saad-7275/Saad-7275/blob/main/US_Honey_Case_Study.ipynb\" target=\"_parent\"><img src=\"https://colab.research.google.com/assets/colab-badge.svg\" alt=\"Open In Colab\"/></a>"
      ]
    },
    {
      "cell_type": "code",
      "execution_count": null,
      "metadata": {
        "id": "QvtqyIG2OP2w"
      },
      "outputs": [],
      "source": [
        "import pandas as pd\n",
        "import numpy as np\n",
        "import matplotlib.pyplot as plt\n",
        "import seaborn as sns"
      ]
    },
    {
      "cell_type": "markdown",
      "source": [
        "### Importing the US_Honey_Case_Study_Data"
      ],
      "metadata": {
        "id": "cyYnoKvDOxq_"
      }
    },
    {
      "cell_type": "code",
      "source": [
        "df = pd.read_csv('/content/US_honey_dataset (9).csv')\n",
        "df"
      ],
      "metadata": {
        "id": "FLZDkT_zOwph"
      },
      "execution_count": null,
      "outputs": []
    },
    {
      "cell_type": "code",
      "source": [
        "df.isnull().sum()"
      ],
      "metadata": {
        "id": "ehyKeKkoPA6Q"
      },
      "execution_count": null,
      "outputs": []
    },
    {
      "cell_type": "code",
      "source": [
        "df.columns"
      ],
      "metadata": {
        "id": "_XlJ8kXjPH9U"
      },
      "execution_count": null,
      "outputs": []
    },
    {
      "cell_type": "code",
      "source": [
        "df.drop(columns='Unnamed: 0',inplace = True)"
      ],
      "metadata": {
        "id": "Se3N_CY5PQPF"
      },
      "execution_count": null,
      "outputs": []
    },
    {
      "cell_type": "code",
      "source": [
        "df"
      ],
      "metadata": {
        "id": "buv57IXUPZP9"
      },
      "execution_count": null,
      "outputs": []
    },
    {
      "cell_type": "code",
      "source": [
        "df.describe()"
      ],
      "metadata": {
        "id": "beih1xWWPkhx"
      },
      "execution_count": null,
      "outputs": []
    },
    {
      "cell_type": "code",
      "source": [
        "df.info()"
      ],
      "metadata": {
        "id": "CmXJV9qfPvt2"
      },
      "execution_count": null,
      "outputs": []
    },
    {
      "cell_type": "code",
      "source": [
        "for col in df.columns:\n",
        "  if (df[col].dtypes == 'int64' or df[col].dtypes == 'float64'):\n",
        "    sns.set()\n",
        "    sns.boxplot(df[col])\n",
        "    plt.xlabel(col)\n",
        "    plt.ylabel('count')\n",
        "    plt.show()"
      ],
      "metadata": {
        "id": "8lO-3clBQJkW"
      },
      "execution_count": null,
      "outputs": []
    },
    {
      "cell_type": "markdown",
      "source": [
        "#### Removing Some of the Outliers from the above boxplot"
      ],
      "metadata": {
        "id": "cCSyNdQDR9ee"
      }
    },
    {
      "cell_type": "code",
      "source": [
        "column_names = ['colonies_number','yield_per_colony','production','stocks','average_price','value_of_production','year']\n",
        "for i in column_names:\n",
        "  Q1 = df[i].quantile(0.25)\n",
        "  Q3 = df[i].quantile(0.75)\n",
        "\n",
        "  IQR = Q3 - Q1\n",
        "  df = df[(df[i] >= Q1 - 1.5*IQR) & (df[i] <= Q3 + 1.5*IQR)]"
      ],
      "metadata": {
        "id": "4s_G_wrqR7dv"
      },
      "execution_count": null,
      "outputs": []
    },
    {
      "cell_type": "code",
      "source": [],
      "metadata": {
        "id": "J2c_7RamVxxE"
      },
      "execution_count": null,
      "outputs": []
    },
    {
      "cell_type": "code",
      "source": [
        "for col in df.columns:\n",
        "  if (df[col].dtypes == 'int64' or df[col].dtypes == 'float64'):\n",
        "    sns.set()\n",
        "    sns.boxplot(df[col])\n",
        "    plt.xlabel(col)\n",
        "    plt.ylabel('count')\n",
        "    plt.show()"
      ],
      "metadata": {
        "id": "msvBCDGhV5SB"
      },
      "execution_count": null,
      "outputs": []
    },
    {
      "cell_type": "markdown",
      "source": [
        "#### Now Finding the Correlation Coefficient with each of the Numerical Data Columns and Plotting the Heat Map"
      ],
      "metadata": {
        "id": "ee4yRd2cY5ge"
      }
    },
    {
      "cell_type": "code",
      "source": [
        "num_columns = df.select_dtypes(include = ['int64','float64'])\n",
        "\n",
        "corr_coeff = num_columns.corr()\n",
        "print(corr_coeff)"
      ],
      "metadata": {
        "id": "kdyIjnV1WMui"
      },
      "execution_count": null,
      "outputs": []
    },
    {
      "cell_type": "code",
      "source": [
        "sns.heatmap(corr_coeff, annot = True, cmap = 'coolwarm',linewidths=0.6, xticklabels = 'auto', yticklabels = 'auto',linecolor='Black')"
      ],
      "metadata": {
        "id": "G7JoZHBOdlWZ"
      },
      "execution_count": null,
      "outputs": []
    },
    {
      "cell_type": "markdown",
      "source": [
        "#### Mode value or the Most repeated value for each row of the 'State' Columns"
      ],
      "metadata": {
        "id": "qwh6zNaqfGxD"
      }
    },
    {
      "cell_type": "code",
      "source": [
        "df['state'].value_counts()"
      ],
      "metadata": {
        "id": "TKAJubwrfFcB"
      },
      "execution_count": null,
      "outputs": []
    },
    {
      "cell_type": "markdown",
      "source": [
        "##### PLotting the Dist plot to show the skewness in the Data set for Each Column"
      ],
      "metadata": {
        "id": "vTbS3ChNfx-b"
      }
    },
    {
      "cell_type": "code",
      "source": [
        "sns.histplot(num_columns)\n",
        "plt.show()"
      ],
      "metadata": {
        "id": "GyxIqxtcfwvg"
      },
      "execution_count": null,
      "outputs": []
    },
    {
      "cell_type": "code",
      "source": [
        "df.shape"
      ],
      "metadata": {
        "id": "k6W1NsMnus7y"
      },
      "execution_count": null,
      "outputs": []
    },
    {
      "cell_type": "markdown",
      "source": [
        "#### Top Honey Production States"
      ],
      "metadata": {
        "id": "xqL9ILsm0LZE"
      }
    },
    {
      "cell_type": "code",
      "source": [
        "df.head()\n",
        "df_production = df.sort_values('production', ascending = False)\n",
        "print(df_production)"
      ],
      "metadata": {
        "id": "r2oPSH1T0F9J"
      },
      "execution_count": null,
      "outputs": []
    },
    {
      "cell_type": "code",
      "source": [
        "df_production.head()"
      ],
      "metadata": {
        "id": "_sfRSs7302Qh"
      },
      "execution_count": null,
      "outputs": []
    },
    {
      "cell_type": "markdown",
      "source": [
        "### *Since from the above table we can depict that what are the top Honey Production states but there are some values still repeating in the \"states\" section then to get rid off from such problem we can either plot a bar chart or through the Group by method*"
      ],
      "metadata": {
        "id": "9HP1mxOo0-qO"
      }
    },
    {
      "cell_type": "code",
      "source": [
        "plt.figure(figsize = (10,10))\n",
        "sns.barplot(y = df['state'],x = df['production'])\n",
        "plt.xlabel(\"\\n\"'Amount of Production')\n",
        "plt.ylabel(\"States\")\n",
        "plt.show()\n"
      ],
      "metadata": {
        "id": "wGfzx76d09bu"
      },
      "execution_count": null,
      "outputs": []
    },
    {
      "cell_type": "code",
      "source": [
        "df.head()"
      ],
      "metadata": {
        "id": "Eur4DgJP2sam"
      },
      "execution_count": null,
      "outputs": []
    },
    {
      "cell_type": "markdown",
      "source": [
        "#### Now Calculating the mean \"average_price\" for each year"
      ],
      "metadata": {
        "id": "uL10QGcm2z2Q"
      }
    },
    {
      "cell_type": "code",
      "source": [
        "df_mean_avg = df.groupby('year').mean()\n",
        "print(df_mean_avg)"
      ],
      "metadata": {
        "id": "5YZxBxvE2yAA"
      },
      "execution_count": null,
      "outputs": []
    },
    {
      "cell_type": "code",
      "source": [
        "## Resetting the index because of the group by the year has became the index part for the rows\n",
        "\n",
        "df_mean_avg= df_mean_avg.reset_index()\n",
        "df_mean_avg"
      ],
      "metadata": {
        "id": "dEO4U6GB3vGq"
      },
      "execution_count": null,
      "outputs": []
    },
    {
      "cell_type": "code",
      "source": [
        "plt.figure(figsize=(15,10))\n",
        "sns.barplot(y = df_mean_avg['average_price'], x = df_mean_avg['year'])\n",
        "plt.ylabel = [\"Mean_average_price\"]\n",
        "plt.xlabel = [\"Year(1995-2021)\"]\n",
        "plt.title(\"\\n\"\"Year and the mean Average_price of production of Honey\")\n",
        "plt.show()"
      ],
      "metadata": {
        "id": "-xyClT894l8p"
      },
      "execution_count": null,
      "outputs": []
    },
    {
      "cell_type": "markdown",
      "source": [
        "**Which was the year when total mean value of production of honey was highest**"
      ],
      "metadata": {
        "id": "uuCrstrrELrB"
      }
    },
    {
      "cell_type": "code",
      "source": [
        "df.head()"
      ],
      "metadata": {
        "id": "p7GadvqWEKy1"
      },
      "execution_count": null,
      "outputs": []
    },
    {
      "cell_type": "code",
      "source": [
        "df_mean_prod = df.groupby('year').mean()\n",
        "df_mean_prod\n",
        "df_mean_prod.reset_index()"
      ],
      "metadata": {
        "id": "jN7uo7L1EaAb"
      },
      "execution_count": null,
      "outputs": []
    },
    {
      "cell_type": "code",
      "source": [
        "df_max_mean_production = df_mean_prod.loc[df_mean_prod['value_of_production'].idxmax()]\n",
        "df_mean_prod['year']"
      ],
      "metadata": {
        "id": "bRzbIWzTEkL7"
      },
      "execution_count": null,
      "outputs": []
    }
  ]
}