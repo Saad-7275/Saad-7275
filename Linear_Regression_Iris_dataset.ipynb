{
  "nbformat": 4,
  "nbformat_minor": 0,
  "metadata": {
    "colab": {
      "provenance": [],
      "authorship_tag": "ABX9TyNEjnaMoHparjE+shz0P5L3",
      "include_colab_link": true
    },
    "kernelspec": {
      "name": "python3",
      "display_name": "Python 3"
    },
    "language_info": {
      "name": "python"
    }
  },
  "cells": [
    {
      "cell_type": "markdown",
      "metadata": {
        "id": "view-in-github",
        "colab_type": "text"
      },
      "source": [
        "<a href=\"https://colab.research.google.com/github/Saad-7275/Saad-7275/blob/main/Linear_Regression_Iris_dataset.ipynb\" target=\"_parent\"><img src=\"https://colab.research.google.com/assets/colab-badge.svg\" alt=\"Open In Colab\"/></a>"
      ]
    },
    {
      "cell_type": "code",
      "execution_count": null,
      "metadata": {
        "id": "h5DTgYi3IPw7"
      },
      "outputs": [],
      "source": [
        "from sklearn.datasets import load_iris\n",
        "import pandas as pd\n",
        "import numpy as np\n",
        "import matplotlib.pyplot as plt\n",
        "import seaborn as sns"
      ]
    },
    {
      "cell_type": "code",
      "source": [
        "iris = load_iris()"
      ],
      "metadata": {
        "id": "qBIaD-0lI2W0"
      },
      "execution_count": null,
      "outputs": []
    },
    {
      "cell_type": "code",
      "source": [
        "x = iris.data\n",
        "y = iris.target\n"
      ],
      "metadata": {
        "id": "1PUB7654JFOD"
      },
      "execution_count": null,
      "outputs": []
    },
    {
      "cell_type": "code",
      "source": [
        "df = pd.DataFrame(x)\n",
        "print(iris.feature_names)\n",
        "df.columns = iris.feature_names\n",
        "df.describe()\n"
      ],
      "metadata": {
        "id": "E35_OpfaMJnB"
      },
      "execution_count": null,
      "outputs": []
    },
    {
      "cell_type": "code",
      "source": [
        "\n",
        "\n",
        "x = df['sepal width (cm)'].values.reshape(-1,1)\n",
        "y = df['sepal length (cm)']"
      ],
      "metadata": {
        "id": "RtaBNFtcUPMQ"
      },
      "execution_count": null,
      "outputs": []
    },
    {
      "cell_type": "code",
      "source": [
        "from sklearn import model_selection\n",
        "x_train,x_test, y_train, y_test = model_selection.train_test_split(x,y)"
      ],
      "metadata": {
        "id": "reZz4yAMMVZN"
      },
      "execution_count": null,
      "outputs": []
    },
    {
      "cell_type": "code",
      "source": [
        "from sklearn.linear_model import LinearRegression\n",
        "alg1 = LinearRegression()\n",
        "alg1.fit(x_train, y_train)"
      ],
      "metadata": {
        "id": "_CkNUBV3RbSu"
      },
      "execution_count": null,
      "outputs": []
    },
    {
      "cell_type": "code",
      "source": [
        "y_predict_train = alg1.predict(x_train)\n",
        "training_score = alg1.score(x_train, y_train)\n",
        "\n",
        "y_predict_test = alg1.predict(x_test)\n",
        "testing_score = alg1.score(x_test, y_test)\n",
        "\n",
        "print(training_score , testing_score)"
      ],
      "metadata": {
        "id": "7ru2RdBwR-Ej"
      },
      "execution_count": null,
      "outputs": []
    },
    {
      "cell_type": "code",
      "source": [
        "np.corrcoef(df['sepal length (cm)'], df['sepal width (cm)'])"
      ],
      "metadata": {
        "id": "j7LpfcK1S26P"
      },
      "execution_count": null,
      "outputs": []
    },
    {
      "cell_type": "code",
      "source": [
        "m = alg1.coef_\n",
        "c = alg1.intercept_\n",
        "print(m)\n",
        "print(c)"
      ],
      "metadata": {
        "id": "DJ9QiBDnTr5M"
      },
      "execution_count": null,
      "outputs": []
    },
    {
      "cell_type": "code",
      "source": [
        "x_line = np.arange(0,5,0.2)\n",
        "y_line = m* x_line + c\n",
        "plt.plot(x_line, y_line)\n",
        "\n",
        "plt.scatter(x_test, y_test)\n",
        "plt.show()"
      ],
      "metadata": {
        "id": "F1IGkSJaUlKs"
      },
      "execution_count": null,
      "outputs": []
    },
    {
      "cell_type": "markdown",
      "source": [
        "**Writing the functions explicitly rather than using the in-built functions to determine the Best-fit line, y-predict value, score and the cost function**"
      ],
      "metadata": {
        "id": "aEL3TmVv83NK"
      }
    },
    {
      "cell_type": "code",
      "source": [
        "def fit(x_train, y_train):\n",
        "  num = (x_train * y_train).mean() - x_train.mean() * y_train.mean()\n",
        "  den = (x_train ** 2).mean() - (x_train.mean())**2\n",
        "\n",
        "  m = num / den\n",
        "\n",
        "  c = y_train.mean() - m*x_train.mean()\n",
        "\n",
        "  return m,c\n",
        "\n",
        "def predict(x,m,c):\n",
        "  return m*x + c\n",
        "\n",
        "def score(y_truth, y_predict):\n",
        "  U = ((y_truth - y_predict)**2).sum()\n",
        "  V = ((y_truth - y_truth.mean())**2).sum()\n",
        "\n",
        "  return 1 - U/V\n",
        "\n",
        "def cost(x,y,m,c):\n",
        "  return ((y-m*x +c)**2).sum()"
      ],
      "metadata": {
        "id": "WNoZmNUVWfzR"
      },
      "execution_count": null,
      "outputs": []
    },
    {
      "cell_type": "code",
      "source": [
        "M,C = fit(x_train, y_train)\n",
        "\n",
        "y_predict_train = predict(x_train, M,C)\n",
        "\n",
        "training_score = score(y_train, y_predict_train)\n",
        "\n",
        "training_cost = cost(x_train, y_train, M,C)\n",
        "\n",
        "print(M,C)\n",
        "\n",
        "print(training_score)\n",
        "\n",
        "print(training_cost)"
      ],
      "metadata": {
        "id": "vULxKSqRWmw-"
      },
      "execution_count": null,
      "outputs": []
    },
    {
      "cell_type": "markdown",
      "source": [
        "**Adding New Features into a data frame and try to see whether the score and the cost function improves or not**"
      ],
      "metadata": {
        "id": "EdRBQD0_kl0w"
      }
    },
    {
      "cell_type": "code",
      "source": [
        "df"
      ],
      "metadata": {
        "id": "aS0dYyv_kBaz"
      },
      "execution_count": null,
      "outputs": []
    },
    {
      "cell_type": "code",
      "source": [
        "df['sepal_length_sepal_length (cm)'] = df['sepal length (cm)']\t**2\n",
        "\n",
        "df\n",
        "df['sepal_width_squared'] = df['sepal width (cm)']**2\n",
        "\n",
        "df['petal_length_squared'] = df['petal length (cm)']**2\n",
        "\n",
        "df['petal_width_squared'] = df['petal width (cm)']**2\n",
        "\n",
        "df\n",
        "\n",
        "df['sepal_petal_length'] = df['sepal length (cm)'] * df['petal length (cm)']\n",
        "df['sepal_L_petal_W'] = df['sepal length (cm)'] * df['petal width (cm)']\n",
        "df['sepal_W_petal_L'] = df['sepal width (cm)'] * df['petal length (cm)']\n",
        "df['sepal_petal_width'] = df['sepal width (cm)'] * df['petal width (cm)']\n",
        "df['sepal_L_W'] = df['sepal length (cm)'] * df['sepal width (cm)']\n",
        "df['petal_L_W'] = df['petal length (cm)'] * df['petal width (cm)']\n",
        "\n",
        "df.shape\n",
        "df"
      ],
      "metadata": {
        "id": "Wx-Zl9-WlAo1"
      },
      "execution_count": null,
      "outputs": []
    },
    {
      "cell_type": "code",
      "source": [
        "x2 = df.values\n",
        "x2.shape"
      ],
      "metadata": {
        "id": "71dCEOiSpCPF"
      },
      "execution_count": null,
      "outputs": []
    },
    {
      "cell_type": "code",
      "source": [
        "from sklearn import model_selection\n",
        "x_train,x_test, y_train, y_test = model_selection.train_test_split(x,y,random_state = 0)\n",
        "\n",
        "x2_train, x2_test, y2_train, y2_test = model_selection.train_test_split(x2,y, random_state = 0)"
      ],
      "metadata": {
        "id": "G1sxF0q_pWYJ"
      },
      "execution_count": null,
      "outputs": []
    },
    {
      "cell_type": "code",
      "source": [
        "from sklearn.linear_model import LinearRegression\n",
        "alg1 = LinearRegression()\n",
        "alg1.fit(x_train, y_train)\n",
        "\n",
        "alg2 = LinearRegression()\n",
        "alg2.fit(x2_train, y2_train)"
      ],
      "metadata": {
        "id": "dEuLE7BkqDav"
      },
      "execution_count": null,
      "outputs": []
    },
    {
      "cell_type": "code",
      "source": [
        "y_predict_train = alg1.predict(x_train)\n",
        "training_score = alg1.score(x_train, y_train)\n",
        "\n",
        "y_predict_test = alg1.predict(x_test)\n",
        "testing_score = alg1.score(x_test, y_test)\n",
        "\n",
        "print(training_score , testing_score,\"\\n\")\n",
        "\n",
        "y2_predict_train = alg2.predict(x2_train)\n",
        "training_score_2 = alg2.score(x2_train, y2_train)\n",
        "\n",
        "y2_predict_test = alg2.predict(x2_test)\n",
        "testing_score_2 = alg2.score(x2_test, y2_test)\n",
        "\n",
        "print(\"\\n\",training_score_2, testing_score_2)"
      ],
      "metadata": {
        "id": "9QUm3vvzqW3K"
      },
      "execution_count": null,
      "outputs": []
    }
  ]
}